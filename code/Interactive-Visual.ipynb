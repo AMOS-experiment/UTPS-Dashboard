{
 "cells": [
  {
   "cell_type": "code",
   "execution_count": 1,
   "metadata": {},
   "outputs": [],
   "source": [
    "# Data Manipulation, Wrangling & Analysis Library \n",
    "import pandas as pd\n",
    "# Multi-Dimensional Arrays and Matrices Library\n",
    "import numpy as np\n",
    "# Plotting module from Matplotlib visualization Library\n",
    "import matplotlib.pyplot as plt\n",
    "# Statistical data visualization library built on Matplotlib\n",
    "import seaborn as sns\n",
    "# Import physical constants such as the speed of light\n",
    "import scipy.constants as consts"
   ]
  },
  {
   "cell_type": "code",
   "execution_count": 2,
   "metadata": {},
   "outputs": [],
   "source": [
    "# Quick and dirty method\n",
    "import plotly.express as px\n",
    "\n",
    "# For more customization\n",
    "import plotly.graph_objects as go\n",
    "\n",
    "# Make subplots\n",
    "from plotly.subplots import make_subplots"
   ]
  },
  {
   "cell_type": "code",
   "execution_count": null,
   "metadata": {},
   "outputs": [],
   "source": []
  },
  {
   "cell_type": "code",
   "execution_count": null,
   "metadata": {},
   "outputs": [],
   "source": []
  }
 ],
 "metadata": {
  "kernelspec": {
   "display_name": "Python 3",
   "language": "python",
   "name": "python3"
  },
  "language_info": {
   "codemirror_mode": {
    "name": "ipython",
    "version": 3
   },
   "file_extension": ".py",
   "mimetype": "text/x-python",
   "name": "python",
   "nbconvert_exporter": "python",
   "pygments_lexer": "ipython3",
   "version": "3.8.3"
  }
 },
 "nbformat": 4,
 "nbformat_minor": 4
}
