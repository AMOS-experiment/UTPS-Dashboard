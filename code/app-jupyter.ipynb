{
 "cells": [
  {
   "cell_type": "code",
   "execution_count": null,
   "metadata": {},
   "outputs": [
    {
     "name": "stdout",
     "output_type": "stream",
     "text": [
      "Available Data:\n",
      "\n",
      "[0] trial_output05.tsv\n",
      "Data Synopsis:\n",
      "\n",
      "dataset: [0] trial_output05.tsv\n",
      "\tNo. of M1 Steps: 67\n",
      "        \tMin: 9.215[mm]\n",
      "        \tMax: 9.413[mm]\n",
      "        \tStep-Size:  0.003[mm]  =>  ~ 20.0[fs]\n",
      "        \tScan width: 0.198[mm]  =>  ~ 1,340.0[fs]\n",
      "\n",
      "\tNo. of M2 Steps: 58\n",
      "        \tMin: 33.34[mm]\n",
      "        \tMax: 33.511[mm]\n",
      "        \tStep-Size:  0.003[mm]  =>  ~ 20.0[fs]\n",
      "        \tScan Width: 0.171[mm]  =>  ~ 1,160.0[fs]\n",
      "\n",
      "\tNo. of Experimental Scans observed: 12\n",
      "\tComplete scans have at least 3,886 measurements.\n",
      "\n",
      "\tINCOMPLETE scan#: [11]\n",
      "\tCOMPLETE scan#:   [0, 1, 2, 3, 4, 5, 6, 7, 8, 9, 10]\n",
      "\n",
      "\tDAQ Errors:\n",
      "\t\tNone found.\n",
      "\n",
      "Dash is running on http://127.0.0.1:8050/\n",
      "\n",
      " * Serving Flask app \"app\" (lazy loading)\n",
      " * Environment: production\n",
      "   WARNING: This is a development server. Do not use it in a production deployment.\n",
      "   Use a production WSGI server instead.\n",
      " * Debug mode: on\n",
      "\n",
      "update_active_filename\n",
      "add_subplot\n",
      "active_f None\n",
      "active_f type <class 'NoneType'>\n",
      "\n",
      "ctxt[i=0]['prop_id'] .\n",
      "\n",
      "render_child_div\n",
      "graph_clicks: 0\n",
      "container style states [{}]\n",
      "\n",
      "toggle_modal\n",
      "ctxt[i=0]['prop_id'] .\n",
      "\n",
      "\n",
      "update_components\n",
      "active_f None\n",
      "f 0\n",
      "\n",
      "lineout_options\n",
      "active_f: None\n",
      "active_f type: <class 'NoneType'>\n",
      "\n",
      "\n",
      "update_rangeslider\n",
      "\n",
      "populate_legend_modal_list\n",
      "ctxt[i=0]['prop_id'] {\"index\":0,\"type\":\"slct_scans\"}.value\n",
      "\n",
      "active_f: None\n",
      "active_f type: <class 'NoneType'>\n",
      "\n",
      "\n",
      "update_heatmap\n",
      "active_f: None\n",
      "active_f type: <class 'NoneType'>\n",
      "\n",
      "\n",
      "update_scatter\n",
      "active_f: None\n",
      "active_f type: <class 'NoneType'>\n",
      "\n"
     ]
    }
   ],
   "source": [
    "# IMPORTS:\n",
    "from app import app\n",
    "from layouts import layout1\n",
    "import callbacks\n",
    "\n",
    "# Set the layout of the app\n",
    "app.layout = layout1\n",
    "\n",
    "# Entry point for running the app:\n",
    "if __name__ == '__main__':\n",
    "    # Default: visit http://127.0.0.1:8050/ in your web browser.\n",
    "    app.run_server(debug=True, use_reloader=False, host='127.0.0.1', port='8050') \n",
    "\n",
    "    # Run app and display result inline in Jupyter notebook\n",
    "    #app.run_server(mode='inline',debug=False, use_reloader=False, host='127.0.0.1', port='8050')"
   ]
  },
  {
   "cell_type": "markdown",
   "metadata": {},
   "source": [
    "---"
   ]
  }
 ],
 "metadata": {
  "kernelspec": {
   "display_name": "Python 3",
   "language": "python",
   "name": "python3"
  },
  "language_info": {
   "codemirror_mode": {
    "name": "ipython",
    "version": 3
   },
   "file_extension": ".py",
   "mimetype": "text/x-python",
   "name": "python",
   "nbconvert_exporter": "python",
   "pygments_lexer": "ipython3",
   "version": "3.8.3"
  }
 },
 "nbformat": 4,
 "nbformat_minor": 4
}
