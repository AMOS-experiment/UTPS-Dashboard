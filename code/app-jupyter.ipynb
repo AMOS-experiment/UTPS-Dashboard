{
 "cells": [
  {
   "cell_type": "code",
   "execution_count": null,
   "metadata": {},
   "outputs": [],
   "source": [
    "# Additional Requirements to launch App with Jupyter\n",
    "# https://github.com/plotly/jupyterlab-dash\n",
    "# jupyter-dash==0.4.0\n",
    "# jupyterlab-dash==0.1.0a3"
   ]
  },
  {
   "cell_type": "code",
   "execution_count": 1,
   "metadata": {},
   "outputs": [
    {
     "name": "stdout",
     "output_type": "stream",
     "text": [
      "Available Data:\n",
      "\n",
      "[0] 2DHomodyne_Air_drive135_probe0_comp3p46_pump0.dat\n",
      "[1] trial_output05.tsv\n",
      "Data Synopsis:\n",
      "\n",
      "dataset: [0] 2DHomodyne_Air_drive135_probe0_comp3p46_pump0.dat\n",
      "\tNo. of M1 Steps: 67\n",
      "        \tMin: 9.215[mm]\n",
      "        \tMax: 9.413[mm]\n",
      "        \tStep-Size:  0.003[mm]  =>  ~ 20.0[fs]\n",
      "        \tScan width: 0.198[mm]  =>  ~ 1,340.0[fs]\n",
      "\n",
      "\tNo. of M2 Steps: 67\n",
      "        \tMin: 33.311[mm]\n",
      "        \tMax: 33.509[mm]\n",
      "        \tStep-Size:  0.003[mm]  =>  ~ 20.0[fs]\n",
      "        \tScan Width: 0.198[mm]  =>  ~ 1,340.0[fs]\n",
      "\n",
      "\tNo. of Experimental Scans observed: 23\n",
      "\tComplete scans have at least 4,489 measurements.\n",
      "\n",
      "\tINCOMPLETE scan#: [22]\n",
      "\tCOMPLETE scan#:   [0, 1, 2, 3, 4, 5, 6, 7, 8, 9, 10, 11, 12, 13, 14, 15, 16, 17, 18, 19, 20, 21]\n",
      "\n",
      "\tDAQ Errors:\n",
      "\t\tScan-0 Measurements\n",
      "\t\t\terror#-0: 21\n",
      "\t\t\terror#-1: 4,489\n",
      "\t\tScan-8 Measurements\n",
      "\t\t\terror#-1: 1,507\n",
      "\t\t\terror#-2: 4,489\n",
      "\t\tScan-14 Measurements\n",
      "\t\t\terror#-2: 955\n",
      "\t\t\terror#-3: 4,489\n",
      "\n",
      "dataset: [1] trial_output05.tsv\n",
      "\tNo. of M1 Steps: 67\n",
      "        \tMin: 9.215[mm]\n",
      "        \tMax: 9.413[mm]\n",
      "        \tStep-Size:  0.003[mm]  =>  ~ 20.0[fs]\n",
      "        \tScan width: 0.198[mm]  =>  ~ 1,340.0[fs]\n",
      "\n",
      "\tNo. of M2 Steps: 58\n",
      "        \tMin: 33.34[mm]\n",
      "        \tMax: 33.511[mm]\n",
      "        \tStep-Size:  0.003[mm]  =>  ~ 20.0[fs]\n",
      "        \tScan Width: 0.171[mm]  =>  ~ 1,160.0[fs]\n",
      "\n",
      "\tNo. of Experimental Scans observed: 12\n",
      "\tComplete scans have at least 3,886 measurements.\n",
      "\n",
      "\tINCOMPLETE scan#: [11]\n",
      "\tCOMPLETE scan#:   [0, 1, 2, 3, 4, 5, 6, 7, 8, 9, 10]\n",
      "\n",
      "\tDAQ Errors:\n",
      "\t\tNone found.\n",
      "\n",
      "Dash app running on http://127.0.0.1:8050/\n"
     ]
    }
   ],
   "source": [
    "#!/usr/bin/env python\n",
    "\n",
    "# IMPORTS:\n",
    "from app import app\n",
    "from layouts import layout1\n",
    "import callbacks\n",
    "\n",
    "# Set the layout of the app\n",
    "app.layout = layout1\n",
    "\n",
    "# Entry point for running the app:\n",
    "if __name__ == '__main__':\n",
    "    # Default: visit http://127.0.0.1:8050/ in your web browser.\n",
    "    app.run_server(debug=True, use_reloader=False, host='127.0.0.1', port='8050') \n",
    "\n",
    "    # Run app and display result inline in Jupyter notebook\n",
    "    #app.run_server(mode='inline',debug=False, use_reloader=False, host='127.0.0.1', port='8050')"
   ]
  }
 ],
 "metadata": {
  "kernelspec": {
   "display_name": "Python 3",
   "language": "python",
   "name": "python3"
  },
  "language_info": {
   "codemirror_mode": {
    "name": "ipython",
    "version": 3
   },
   "file_extension": ".py",
   "mimetype": "text/x-python",
   "name": "python",
   "nbconvert_exporter": "python",
   "pygments_lexer": "ipython3",
   "version": "3.8.3"
  }
 },
 "nbformat": 4,
 "nbformat_minor": 4
}
