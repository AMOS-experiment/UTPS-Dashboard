{
 "cells": [
  {
   "cell_type": "code",
   "execution_count": 4,
   "metadata": {},
   "outputs": [],
   "source": [
    "import pandas as pd\n",
    "import seaborn as sns\n",
    "import matplotlib.pyplot as plt\n",
    "import numpy as np"
   ]
  },
  {
   "cell_type": "code",
   "execution_count": 19,
   "metadata": {},
   "outputs": [],
   "source": [
    "header_names = ['#errors',\n",
    "                'scan#', \n",
    "                'motor-target_1', \n",
    "                'motor-target_2', \n",
    "                'motor-actual_1',\n",
    "                'motor-actual_2',\n",
    "                'data_channel_0',\n",
    "                'data_channel_1', \n",
    "                'data_channel_2',\n",
    "                'data_channel_3',\n",
    "                'data_channel_4',\n",
    "                'data_channel_5',\n",
    "                'data_channel_6',\n",
    "                'data_channel_7']\n",
    "\n",
    "data = pd.read_csv('../data/trial_output05.tsv', delimiter='\\t', names = header_names)"
   ]
  },
  {
   "cell_type": "code",
   "execution_count": 18,
   "metadata": {},
   "outputs": [
    {
     "data": {
      "text/html": [
       "<div>\n",
       "<style scoped>\n",
       "    .dataframe tbody tr th:only-of-type {\n",
       "        vertical-align: middle;\n",
       "    }\n",
       "\n",
       "    .dataframe tbody tr th {\n",
       "        vertical-align: top;\n",
       "    }\n",
       "\n",
       "    .dataframe thead th {\n",
       "        text-align: right;\n",
       "    }\n",
       "</style>\n",
       "<table border=\"1\" class=\"dataframe\">\n",
       "  <thead>\n",
       "    <tr style=\"text-align: right;\">\n",
       "      <th></th>\n",
       "      <th>#errors</th>\n",
       "      <th>scan#</th>\n",
       "      <th>motor-target_1</th>\n",
       "      <th>motor-target_2</th>\n",
       "      <th>motor-actual_1</th>\n",
       "      <th>motor-actual_2</th>\n",
       "      <th>data_channel_0</th>\n",
       "      <th>data_channel_1</th>\n",
       "      <th>data_channel_2</th>\n",
       "      <th>data_channel_3</th>\n",
       "      <th>data_channel_4</th>\n",
       "      <th>data_channel_5</th>\n",
       "      <th>data_channel_6</th>\n",
       "      <th>data_channel_7</th>\n",
       "    </tr>\n",
       "  </thead>\n",
       "  <tbody>\n",
       "    <tr>\n",
       "      <th>0</th>\n",
       "      <td>0.0</td>\n",
       "      <td>0.0</td>\n",
       "      <td>9.395</td>\n",
       "      <td>33.448</td>\n",
       "      <td>9.3950</td>\n",
       "      <td>33.448</td>\n",
       "      <td>0.013195</td>\n",
       "      <td>0.010942</td>\n",
       "      <td>-0.006436</td>\n",
       "      <td>-0.019309</td>\n",
       "      <td>-0.031860</td>\n",
       "      <td>-0.005470</td>\n",
       "      <td>1.671540</td>\n",
       "      <td>1.827301</td>\n",
       "    </tr>\n",
       "    <tr>\n",
       "      <th>1</th>\n",
       "      <td>0.0</td>\n",
       "      <td>0.0</td>\n",
       "      <td>9.236</td>\n",
       "      <td>33.400</td>\n",
       "      <td>9.2360</td>\n",
       "      <td>33.400</td>\n",
       "      <td>0.003862</td>\n",
       "      <td>0.014804</td>\n",
       "      <td>0.000322</td>\n",
       "      <td>-0.010620</td>\n",
       "      <td>-0.024458</td>\n",
       "      <td>-0.008689</td>\n",
       "      <td>1.370637</td>\n",
       "      <td>1.558580</td>\n",
       "    </tr>\n",
       "    <tr>\n",
       "      <th>2</th>\n",
       "      <td>0.0</td>\n",
       "      <td>0.0</td>\n",
       "      <td>9.242</td>\n",
       "      <td>33.433</td>\n",
       "      <td>9.2420</td>\n",
       "      <td>33.433</td>\n",
       "      <td>0.000644</td>\n",
       "      <td>-0.035400</td>\n",
       "      <td>-0.016412</td>\n",
       "      <td>-0.009332</td>\n",
       "      <td>0.010299</td>\n",
       "      <td>0.009333</td>\n",
       "      <td>1.125409</td>\n",
       "      <td>1.304020</td>\n",
       "    </tr>\n",
       "    <tr>\n",
       "      <th>3</th>\n",
       "      <td>0.0</td>\n",
       "      <td>0.0</td>\n",
       "      <td>9.380</td>\n",
       "      <td>33.373</td>\n",
       "      <td>9.3800</td>\n",
       "      <td>33.373</td>\n",
       "      <td>-0.004827</td>\n",
       "      <td>-0.036043</td>\n",
       "      <td>-0.007401</td>\n",
       "      <td>-0.010620</td>\n",
       "      <td>0.028321</td>\n",
       "      <td>0.005793</td>\n",
       "      <td>0.923627</td>\n",
       "      <td>1.082929</td>\n",
       "    </tr>\n",
       "    <tr>\n",
       "      <th>4</th>\n",
       "      <td>0.0</td>\n",
       "      <td>0.0</td>\n",
       "      <td>9.302</td>\n",
       "      <td>33.457</td>\n",
       "      <td>9.3021</td>\n",
       "      <td>33.457</td>\n",
       "      <td>0.001288</td>\n",
       "      <td>-0.008367</td>\n",
       "      <td>-0.008689</td>\n",
       "      <td>-0.010941</td>\n",
       "      <td>-0.025423</td>\n",
       "      <td>-0.010298</td>\n",
       "      <td>0.755637</td>\n",
       "      <td>0.894985</td>\n",
       "    </tr>\n",
       "    <tr>\n",
       "      <th>...</th>\n",
       "      <td>...</td>\n",
       "      <td>...</td>\n",
       "      <td>...</td>\n",
       "      <td>...</td>\n",
       "      <td>...</td>\n",
       "      <td>...</td>\n",
       "      <td>...</td>\n",
       "      <td>...</td>\n",
       "      <td>...</td>\n",
       "      <td>...</td>\n",
       "      <td>...</td>\n",
       "      <td>...</td>\n",
       "      <td>...</td>\n",
       "      <td>...</td>\n",
       "    </tr>\n",
       "    <tr>\n",
       "      <th>45623</th>\n",
       "      <td>0.0</td>\n",
       "      <td>11.0</td>\n",
       "      <td>9.290</td>\n",
       "      <td>33.502</td>\n",
       "      <td>9.2900</td>\n",
       "      <td>33.502</td>\n",
       "      <td>-0.001609</td>\n",
       "      <td>-0.032503</td>\n",
       "      <td>-0.016091</td>\n",
       "      <td>-0.014481</td>\n",
       "      <td>0.001931</td>\n",
       "      <td>0.007081</td>\n",
       "      <td>-0.018987</td>\n",
       "      <td>0.005793</td>\n",
       "    </tr>\n",
       "    <tr>\n",
       "      <th>45624</th>\n",
       "      <td>0.0</td>\n",
       "      <td>11.0</td>\n",
       "      <td>9.302</td>\n",
       "      <td>33.511</td>\n",
       "      <td>9.3021</td>\n",
       "      <td>33.511</td>\n",
       "      <td>-0.013516</td>\n",
       "      <td>-0.020274</td>\n",
       "      <td>-0.005149</td>\n",
       "      <td>-0.005149</td>\n",
       "      <td>0.004184</td>\n",
       "      <td>-0.006436</td>\n",
       "      <td>-0.016734</td>\n",
       "      <td>0.008368</td>\n",
       "    </tr>\n",
       "    <tr>\n",
       "      <th>45625</th>\n",
       "      <td>0.0</td>\n",
       "      <td>11.0</td>\n",
       "      <td>9.275</td>\n",
       "      <td>33.466</td>\n",
       "      <td>9.2750</td>\n",
       "      <td>33.466</td>\n",
       "      <td>-0.017700</td>\n",
       "      <td>-0.037009</td>\n",
       "      <td>-0.009654</td>\n",
       "      <td>0.003219</td>\n",
       "      <td>0.020275</td>\n",
       "      <td>-0.003540</td>\n",
       "      <td>-0.016412</td>\n",
       "      <td>0.008046</td>\n",
       "    </tr>\n",
       "    <tr>\n",
       "      <th>45626</th>\n",
       "      <td>0.0</td>\n",
       "      <td>11.0</td>\n",
       "      <td>9.362</td>\n",
       "      <td>33.448</td>\n",
       "      <td>9.3620</td>\n",
       "      <td>33.448</td>\n",
       "      <td>-0.019309</td>\n",
       "      <td>-0.037974</td>\n",
       "      <td>-0.009654</td>\n",
       "      <td>0.004828</td>\n",
       "      <td>0.022528</td>\n",
       "      <td>-0.003540</td>\n",
       "      <td>-0.015769</td>\n",
       "      <td>0.009977</td>\n",
       "    </tr>\n",
       "    <tr>\n",
       "      <th>45627</th>\n",
       "      <td>0.0</td>\n",
       "      <td>11.0</td>\n",
       "      <td>9.290</td>\n",
       "      <td>33.499</td>\n",
       "      <td>9.2900</td>\n",
       "      <td>33.499</td>\n",
       "      <td>-0.017056</td>\n",
       "      <td>-0.012229</td>\n",
       "      <td>-0.003861</td>\n",
       "      <td>-0.006114</td>\n",
       "      <td>-0.001287</td>\n",
       "      <td>-0.011263</td>\n",
       "      <td>-0.016091</td>\n",
       "      <td>0.009333</td>\n",
       "    </tr>\n",
       "  </tbody>\n",
       "</table>\n",
       "<p>45628 rows × 14 columns</p>\n",
       "</div>"
      ],
      "text/plain": [
       "       #errors  scan#  motor-target_1  motor-target_2  motor-actual_1  \\\n",
       "0          0.0    0.0           9.395          33.448          9.3950   \n",
       "1          0.0    0.0           9.236          33.400          9.2360   \n",
       "2          0.0    0.0           9.242          33.433          9.2420   \n",
       "3          0.0    0.0           9.380          33.373          9.3800   \n",
       "4          0.0    0.0           9.302          33.457          9.3021   \n",
       "...        ...    ...             ...             ...             ...   \n",
       "45623      0.0   11.0           9.290          33.502          9.2900   \n",
       "45624      0.0   11.0           9.302          33.511          9.3021   \n",
       "45625      0.0   11.0           9.275          33.466          9.2750   \n",
       "45626      0.0   11.0           9.362          33.448          9.3620   \n",
       "45627      0.0   11.0           9.290          33.499          9.2900   \n",
       "\n",
       "       motor-actual_2  data_channel_0  data_channel_1  data_channel_2  \\\n",
       "0              33.448        0.013195        0.010942       -0.006436   \n",
       "1              33.400        0.003862        0.014804        0.000322   \n",
       "2              33.433        0.000644       -0.035400       -0.016412   \n",
       "3              33.373       -0.004827       -0.036043       -0.007401   \n",
       "4              33.457        0.001288       -0.008367       -0.008689   \n",
       "...               ...             ...             ...             ...   \n",
       "45623          33.502       -0.001609       -0.032503       -0.016091   \n",
       "45624          33.511       -0.013516       -0.020274       -0.005149   \n",
       "45625          33.466       -0.017700       -0.037009       -0.009654   \n",
       "45626          33.448       -0.019309       -0.037974       -0.009654   \n",
       "45627          33.499       -0.017056       -0.012229       -0.003861   \n",
       "\n",
       "       data_channel_3  data_channel_4  data_channel_5  data_channel_6  \\\n",
       "0           -0.019309       -0.031860       -0.005470        1.671540   \n",
       "1           -0.010620       -0.024458       -0.008689        1.370637   \n",
       "2           -0.009332        0.010299        0.009333        1.125409   \n",
       "3           -0.010620        0.028321        0.005793        0.923627   \n",
       "4           -0.010941       -0.025423       -0.010298        0.755637   \n",
       "...               ...             ...             ...             ...   \n",
       "45623       -0.014481        0.001931        0.007081       -0.018987   \n",
       "45624       -0.005149        0.004184       -0.006436       -0.016734   \n",
       "45625        0.003219        0.020275       -0.003540       -0.016412   \n",
       "45626        0.004828        0.022528       -0.003540       -0.015769   \n",
       "45627       -0.006114       -0.001287       -0.011263       -0.016091   \n",
       "\n",
       "       data_channel_7  \n",
       "0            1.827301  \n",
       "1            1.558580  \n",
       "2            1.304020  \n",
       "3            1.082929  \n",
       "4            0.894985  \n",
       "...               ...  \n",
       "45623        0.005793  \n",
       "45624        0.008368  \n",
       "45625        0.008046  \n",
       "45626        0.009977  \n",
       "45627        0.009333  \n",
       "\n",
       "[45628 rows x 14 columns]"
      ]
     },
     "execution_count": 18,
     "metadata": {},
     "output_type": "execute_result"
    }
   ],
   "source": [
    "# Check that all is copacetic\n",
    "data"
   ]
  },
  {
   "cell_type": "code",
   "execution_count": 15,
   "metadata": {},
   "outputs": [
    {
     "data": {
      "text/plain": [
       "0.0     3886\n",
       "1.0     3886\n",
       "2.0     3886\n",
       "3.0     3886\n",
       "4.0     3886\n",
       "5.0     3886\n",
       "6.0     3886\n",
       "7.0     3886\n",
       "8.0     3886\n",
       "9.0     3886\n",
       "10.0    3886\n",
       "11.0    2882\n",
       "Name: scan#, dtype: int64"
      ]
     },
     "execution_count": 15,
     "metadata": {},
     "output_type": "execute_result"
    }
   ],
   "source": [
    "# Notice Scan '11.0' has 1,004 fewer samples\n",
    "# All points in a scan are guaranteed to be sampled...except scan 11?\n",
    "# Scans are averaged together, homodyne OKE results\n",
    "data['scan#'].value_counts().sort_index()"
   ]
  },
  {
   "cell_type": "code",
   "execution_count": 21,
   "metadata": {},
   "outputs": [
    {
     "data": {
      "text/plain": [
       "0.0    45628\n",
       "Name: #errors, dtype: int64"
      ]
     },
     "execution_count": 21,
     "metadata": {},
     "output_type": "execute_result"
    }
   ],
   "source": [
    "# No errors identified in 45,628 measurements!\n",
    "# An error may consist of a communication error b/w motor & acquisition computer\n",
    "# Motors will be reinitialized, and the scan is restarted\n",
    "# \n",
    "data['#errors'].value_counts()"
   ]
  },
  {
   "cell_type": "code",
   "execution_count": 38,
   "metadata": {},
   "outputs": [
    {
     "data": {
      "text/plain": [
       "9.215    682\n",
       "9.218    681\n",
       "9.221    679\n",
       "9.224    684\n",
       "9.227    685\n",
       "        ... \n",
       "9.401    680\n",
       "9.404    683\n",
       "9.407    681\n",
       "9.410    677\n",
       "9.413    680\n",
       "Name: motor-target_1, Length: 67, dtype: int64"
      ]
     },
     "execution_count": 38,
     "metadata": {},
     "output_type": "execute_result"
    }
   ],
   "source": [
    "# There are 67-motor_1 positions each with b/w 670(9.245)-689(9.236) samples taken\n",
    "# Motor_1 positions range (9.215, 9.413)\n",
    "data['motor-target_1'].value_counts().sort_index()"
   ]
  },
  {
   "cell_type": "code",
   "execution_count": 40,
   "metadata": {},
   "outputs": [
    {
     "data": {
      "text/plain": [
       "0.002955223880597021"
      ]
     },
     "execution_count": 40,
     "metadata": {},
     "output_type": "execute_result"
    }
   ],
   "source": [
    "# step-size for motor_1\n",
    "# Why is the range of positions greater for motor_1 than motor_2?\n",
    "(9.413-9.215)/67"
   ]
  },
  {
   "cell_type": "code",
   "execution_count": 37,
   "metadata": {},
   "outputs": [
    {
     "data": {
      "text/plain": [
       "33.340    790\n",
       "33.343    786\n",
       "33.346    784\n",
       "33.349    786\n",
       "33.352    787\n",
       "33.355    783\n",
       "33.358    789\n",
       "33.361    788\n",
       "33.364    788\n",
       "33.367    788\n",
       "33.370    787\n",
       "33.373    785\n",
       "33.376    787\n",
       "33.379    787\n",
       "33.382    784\n",
       "33.385    779\n",
       "33.388    784\n",
       "33.391    793\n",
       "33.394    782\n",
       "33.397    792\n",
       "33.400    793\n",
       "33.403    787\n",
       "33.406    785\n",
       "33.409    786\n",
       "33.412    782\n",
       "33.415    782\n",
       "33.418    782\n",
       "33.421    786\n",
       "33.424    788\n",
       "33.427    787\n",
       "33.430    788\n",
       "33.433    779\n",
       "33.436    789\n",
       "33.439    792\n",
       "33.442    789\n",
       "33.445    786\n",
       "33.448    785\n",
       "33.451    789\n",
       "33.454    786\n",
       "33.457    791\n",
       "33.460    786\n",
       "33.463    789\n",
       "33.466    784\n",
       "33.469    791\n",
       "33.472    788\n",
       "33.475    787\n",
       "33.478    793\n",
       "33.481    775\n",
       "33.484    789\n",
       "33.487    784\n",
       "33.490    784\n",
       "33.493    787\n",
       "33.496    786\n",
       "33.499    787\n",
       "33.502    788\n",
       "33.505    788\n",
       "33.508    792\n",
       "33.511    789\n",
       "Name: motor-target_2, dtype: int64"
      ]
     },
     "execution_count": 37,
     "metadata": {},
     "output_type": "execute_result"
    }
   ],
   "source": [
    "# Each motor_2 position has b/w 775(33.481)-793(33.391, 33.400, 33.478) samples taken\n",
    "# There are 58 motor_2 positions Motor_2 positions range (33.340, 33.511)\n",
    "data['motor-target_2'].value_counts().sort_index()"
   ]
  },
  {
   "cell_type": "code",
   "execution_count": 41,
   "metadata": {},
   "outputs": [
    {
     "data": {
      "text/plain": [
       "0.0029482758620689546"
      ]
     },
     "execution_count": 41,
     "metadata": {},
     "output_type": "execute_result"
    }
   ],
   "source": [
    "# step-size for motor_2\n",
    "(33.511-33.340)/58"
   ]
  },
  {
   "cell_type": "code",
   "execution_count": null,
   "metadata": {},
   "outputs": [],
   "source": [
    "data = data.drop(columns=['#errors', 'scan#'])\n",
    "data = data.groupby(['motor-target_1', 'motor-target_2']).mean()\n",
    "display(data.head(60))\n",
    "data_to_plot = data['data_channel_0'].reset_index().pivot(columns='motor-target_1', index='motor-target_2')\n",
    "display(data_to_plot)\n",
    "sns.heatmap(data_to_plot)"
   ]
  },
  {
   "cell_type": "code",
   "execution_count": 30,
   "metadata": {},
   "outputs": [
    {
     "data": {
      "text/plain": [
       "array([33.34])"
      ]
     },
     "execution_count": 30,
     "metadata": {},
     "output_type": "execute_result"
    }
   ],
   "source": [
    "a = np.arange(33.340, 33.511, 58.)\n",
    "a"
   ]
  },
  {
   "cell_type": "code",
   "execution_count": 28,
   "metadata": {},
   "outputs": [
    {
     "data": {
      "text/plain": [
       "[33.34]"
      ]
     },
     "execution_count": 28,
     "metadata": {},
     "output_type": "execute_result"
    }
   ],
   "source": [
    "a"
   ]
  },
  {
   "cell_type": "code",
   "execution_count": null,
   "metadata": {},
   "outputs": [],
   "source": []
  }
 ],
 "metadata": {
  "kernelspec": {
   "display_name": "Python 3",
   "language": "python",
   "name": "python3"
  },
  "language_info": {
   "codemirror_mode": {
    "name": "ipython",
    "version": 3
   },
   "file_extension": ".py",
   "mimetype": "text/x-python",
   "name": "python",
   "nbconvert_exporter": "python",
   "pygments_lexer": "ipython3",
   "version": "3.8.3"
  }
 },
 "nbformat": 4,
 "nbformat_minor": 4
}
